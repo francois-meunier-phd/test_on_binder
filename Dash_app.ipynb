{
 "cells": [
  {
   "cell_type": "markdown",
   "id": "e1c99a61-c6e1-4059-b6c3-667dde04a20e",
   "metadata": {},
   "source": [
    "# Dash app with Flask"
   ]
  },
  {
   "cell_type": "code",
   "execution_count": 7,
   "id": "0c5bedde-b869-4171-a522-62db69aaf351",
   "metadata": {},
   "outputs": [
    {
     "name": "stdout",
     "output_type": "stream",
     "text": [
      "Dash is running on http://127.0.0.1:8050/dash/\n",
      "\n",
      "Dash is running on http://127.0.0.1:8050/dash/\n",
      "\n",
      "Dash is running on http://127.0.0.1:8050/dash/\n",
      "\n",
      "Dash is running on http://127.0.0.1:8050/dash/\n",
      "\n",
      " * Serving Flask app \"__main__\" (lazy loading)\n",
      " * Environment: production\n",
      "\u001b[31m   WARNING: This is a development server. Do not use it in a production deployment.\u001b[0m\n",
      "\u001b[2m   Use a production WSGI server instead.\u001b[0m\n",
      " * Debug mode: off\n"
     ]
    }
   ],
   "source": [
    "import dash\n",
    "import dash_html_components as html\n",
    "import flask\n",
    "\n",
    "server = flask.Flask(__name__)\n",
    "\n",
    "\n",
    "@server.route(\"/\")\n",
    "def home():\n",
    "    return \"Hello, Flask!\"\n",
    "\n",
    "\n",
    "app = dash.Dash(server=server, routes_pathname_prefix=\"/dash/\")\n",
    "\n",
    "app.layout = html.Div(\"This is the Dash app.\")\n",
    "\n",
    "if __name__ == \"__main__\":\n",
    "    app.run_server(debug=False)"
   ]
  },
  {
   "cell_type": "code",
   "execution_count": null,
   "id": "cd8558ed-51fd-43e2-ac09-fb9d5459b0cc",
   "metadata": {},
   "outputs": [],
   "source": []
  }
 ],
 "metadata": {
  "kernelspec": {
   "display_name": "Python 3 (ipykernel)",
   "language": "python",
   "name": "python3"
  },
  "language_info": {
   "codemirror_mode": {
    "name": "ipython",
    "version": 3
   },
   "file_extension": ".py",
   "mimetype": "text/x-python",
   "name": "python",
   "nbconvert_exporter": "python",
   "pygments_lexer": "ipython3",
   "version": "3.9.7"
  }
 },
 "nbformat": 4,
 "nbformat_minor": 5
}
